{
 "cells": [
  {
   "cell_type": "code",
   "execution_count": 1,
   "id": "276f9a85",
   "metadata": {},
   "outputs": [],
   "source": [
    "import cv2\n",
    "import os\n",
    "import numpy as np\n",
    "import pickle"
   ]
  },
  {
   "cell_type": "code",
   "execution_count": 122,
   "id": "c734329a",
   "metadata": {},
   "outputs": [
    {
     "name": "stdout",
     "output_type": "stream",
     "text": [
      "/home/ken/Documents/CSC515/CSC515/pics/real100.jpeg\n",
      "/home/ken/Documents/CSC515/CSC515/pics/fake100.jpeg\n"
     ]
    }
   ],
   "source": [
    "root = tk.Tk()\n",
    "root.withdraw()\n",
    "root.call('wm', 'attributes', '.', '-topmost', True)\n",
    "file_path1 = filedialog.askopenfilename()\n",
    "print(file_path1)\n",
    "file_path2 = filedialog.askopenfilename()\n",
    "print(file_path2)\n",
    "img = cv2.imread(file_path1)  # reading the image file\n",
    "img1 = cv2.imread(file_path2)\n",
    "\n",
    "#img = cv2.imread(\"2000front.jpeg\") # reading the image file\n",
    "#img1 = cv2.imread(\"2000back.jpeg\")\n",
    "\n",
    "res1 = cv2.resize(img, (800, 300))  # resizing the img for display\n",
    "res2 = cv2.resize(img1, (800, 300))  # resizing the img for display\n",
    "image = np.concatenate((res1, res2), axis=0)  # concatenating images for display\n",
    "img_median = cv2.medianBlur(image, 3)  # Add median filter to image\n",
    "gray = cv2.cvtColor(img_median, cv2.COLOR_BGR2GRAY)  # converting to gray scale\n",
    "edges = cv2.Canny(gray, 50, 200)  # canny edge detection\n",
    "th2 = cv2.adaptiveThreshold(edges, 255, cv2.ADAPTIVE_THRESH_MEAN_C, cv2.THRESH_BINARY, 11, 10) # segmentation using adaptive thresholding\n",
    "\n",
    "cv2.imshow('original image', image)  # original images\n",
    "cv2.imshow('noise filtered', img_median)   # filtered images\n",
    "cv2.imshow('gray scale', gray)  # gray scale\n",
    "cv2.imshow('edge detected', edges)  # edge detected\n",
    "cv2.imshow('segmented', th2)  # segmented\n",
    "cv2.waitKey(0)        # Wait for a key press to\n",
    "cv2.destroyAllWindows()  # close the img window\n",
    "\n",
    "# for saving segmented image\n",
    "#with open('saved.pkl', 'wb') as f:\n",
    "#    pickle.dump(th2, f)\n",
    "\n",
    "outfile = open('saved', 'wb')\n",
    "pickle.dump(th2, outfile)\n",
    "outfile.close()"
   ]
  },
  {
   "cell_type": "code",
   "execution_count": 116,
   "id": "056ca121",
   "metadata": {},
   "outputs": [
    {
     "name": "stdout",
     "output_type": "stream",
     "text": [
      "/home/ken/Documents/CSC515/CSC515/pics/shutterstock227361781--125.jpg\n"
     ]
    }
   ],
   "source": [
    "root = tk.Tk()\n",
    "root.withdraw()\n",
    "root.call('wm', 'attributes', '.', '-topmost', True)\n",
    "file_path1 = filedialog.askopenfilename()\n",
    "print(file_path1)\n",
    "#file_path2 = filedialog.askopenfilename()\n",
    "#print(file_path2)\n",
    "img = cv2.imread(file_path1)  # reading the image file\n",
    "#img1 = cv2.imread(file_path2)\n",
    "\n",
    "#img = cv2.imread(\"2000front.jpeg\") # reading the image file\n",
    "#img1 = cv2.imread(\"2000back.jpeg\")\n",
    "\n",
    "image = cv2.resize(img, (375, 249))  # resizing the img for display\n",
    "#res2 = cv2.resize(img1, (800, 300))  # resizing the img for display\n",
    "\n",
    "#image = np.concatenate((res1, res2), axis=0)  # concatenating images for display\n",
    "img_median = cv2.medianBlur(image, 5)  # Add median filter to image\n",
    "gray = cv2.cvtColor(img_median, cv2.COLOR_BGR2GRAY)  # converting to gray scale\n",
    "edges = cv2.Canny(gray, 50, 85)  # canny edge detection\n",
    "th2 = cv2.adaptiveThreshold(edges, 255, cv2.ADAPTIVE_THRESH_MEAN_C, cv2.THRESH_BINARY, 11, 10) # segmentation using adaptive thresholding\n",
    "\n",
    "cv2.imshow('original image', image)  # original images\n",
    "cv2.imshow('noise filtered', img_median)   # filtered images\n",
    "cv2.imshow('gray scale', gray)  # gray scale\n",
    "cv2.imshow('edge detected', edges)  # edge detected\n",
    "cv2.imshow('segmented', th2)  # segmented\n",
    "cv2.waitKey(0)        # Wait for a key press to\n",
    "cv2.destroyAllWindows()  # close the img window\n",
    "\n",
    "# for saving segmented image\n",
    "#with open('saved.pkl', 'wb') as f:\n",
    "#    pickle.dump(th2, f)\n",
    "\n",
    "outfile = open('saved', 'wb')\n",
    "pickle.dump(th2, outfile)\n",
    "outfile.close()"
   ]
  },
  {
   "cell_type": "code",
   "execution_count": 70,
   "id": "71b625cb",
   "metadata": {},
   "outputs": [],
   "source": [
    "import cv2\n",
    "import os\n",
    "import numpy as np\n",
    "from skimage.metrics import structural_similarity as compare_ssim\n",
    "import pickle\n",
    "# for selecting the curreny for checking genuinity\n",
    "import tkinter as tk\n",
    "from tkinter import filedialog"
   ]
  },
  {
   "cell_type": "code",
   "execution_count": 90,
   "id": "63df5210",
   "metadata": {},
   "outputs": [
    {
     "name": "stdout",
     "output_type": "stream",
     "text": [
      "/home/ken/Documents/CSC515/CSC515/pics/real100.jpeg\n",
      "/home/ken/Documents/CSC515/CSC515/pics/real100.jpeg\n"
     ]
    }
   ],
   "source": [
    "root = tk.Tk()\n",
    "root.withdraw()\n",
    "root.call('wm', 'attributes', '.', '-topmost', True)\n",
    "file_path1 = filedialog.askopenfilename()\n",
    "print(file_path1)\n",
    "file_path2 = filedialog.askopenfilename()\n",
    "print(file_path2)\n",
    "img2 = cv2.imread(file_path1)  # reading the image file\n",
    "img3 = cv2.imread(file_path2)\n",
    "res3 = cv2.resize(img2, (800, 300))  # resizing the img for display\n",
    "res4 = cv2.resize(img3, (800, 300))  # resizing the img for display\n",
    "image2 = np.concatenate((res3, res4), axis=0)  # for displaing images vertically concatenating the images\n",
    "img_median1 = cv2.medianBlur(image2, 3)  # Add median filter to image\n",
    "gray1 = cv2.cvtColor(img_median1, cv2.COLOR_BGR2GRAY)  # converting to gray scale\n",
    "edges1 = cv2.Canny(gray1, 60, 180)  # canny edge detection\n",
    "th21 = cv2.adaptiveThreshold(edges1, 255, cv2.ADAPTIVE_THRESH_MEAN_C, cv2.THRESH_BINARY, 11, 10)  # segmentation using adaptive thresholding\n",
    "cv2.imshow('selected image', image2)  # original images\n",
    "cv2.imshow('noise filtered', img_median1)   # filtered images\n",
    "cv2.imshow('gray scale', gray1)  # gray scale\n",
    "cv2.imshow('edge detected', edges1)  # edge detected\n",
    "cv2.imshow('segmented', th21)  # edge detected\n",
    "cv2.waitKey(0)  # Wait for a key press to\n",
    "cv2.destroyAllWindows()  # close the img window"
   ]
  },
  {
   "cell_type": "code",
   "execution_count": 91,
   "id": "0406fb2d",
   "metadata": {},
   "outputs": [],
   "source": [
    "# comparing saved image and test image of currency\n",
    "# loading saved segmented image\n",
    "\n",
    "\n",
    "infile = open('saved', 'rb')\n",
    "th2 = pickle.load(infile)\n",
    "infile.close()"
   ]
  },
  {
   "cell_type": "code",
   "execution_count": 92,
   "id": "c9120965",
   "metadata": {},
   "outputs": [
    {
     "name": "stdout",
     "output_type": "stream",
     "text": [
      "SSIM: 0.9357929407765979\n"
     ]
    }
   ],
   "source": [
    "(score, diff) = compare_ssim(th2, th21, full=True)\n",
    "diff = (diff * 255).astype(\"uint8\")\n",
    "print(\"SSIM: {}\".format(score))\n",
    "cv2.imshow('difference', diff)\n",
    "cv2.waitKey(0)  # Wait for a key press to\n",
    "cv2.destroyAllWindows()  # close the img window\n",
    "\n",
    "from tkinter import messagebox\n",
    "\n",
    "if score == 1:\n",
    "    messagebox.showinfo(\"Message\", \"currency is genuine\")\n",
    "else:\n",
    "    messagebox.showinfo(\"Message\", \"currency is fake\")"
   ]
  },
  {
   "cell_type": "code",
   "execution_count": null,
   "id": "73f3de16",
   "metadata": {},
   "outputs": [],
   "source": []
  }
 ],
 "metadata": {
  "kernelspec": {
   "display_name": "Python 3 (ipykernel)",
   "language": "python",
   "name": "python3"
  },
  "language_info": {
   "codemirror_mode": {
    "name": "ipython",
    "version": 3
   },
   "file_extension": ".py",
   "mimetype": "text/x-python",
   "name": "python",
   "nbconvert_exporter": "python",
   "pygments_lexer": "ipython3",
   "version": "3.10.12"
  }
 },
 "nbformat": 4,
 "nbformat_minor": 5
}
