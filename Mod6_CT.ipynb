{
 "cells": [
  {
   "cell_type": "code",
   "execution_count": null,
   "id": "9f5bc67f",
   "metadata": {},
   "outputs": [],
   "source": [
    "import cv2\n",
    "import matplotlib.pyplot as plt\n",
    "\n",
    "# Load the image in grayscale\n",
    "image = cv2.imread('path_to_image.png', cv2.IMREAD_GRAYSCALE)\n",
    "\n",
    "# Apply Gaussian Blur to smooth the image and reduce noise\n",
    "blur = cv2.GaussianBlur(image, (5, 5), 0)\n",
    "\n",
    "# 1. Otsu's Binarization\n",
    "_, otsu_thresh = cv2.threshold(blur, 0, 255, cv2.THRESH_BINARY + cv2.THRESH_OTSU)\n",
    "\n",
    "# 2. Adaptive Thresholding (Gaussian and Mean)\n",
    "adaptive_thresh_mean = cv2.adaptiveThreshold(blur, 255, cv2.ADAPTIVE_THRESH_MEAN_C, \n",
    "                                             cv2.THRESH_BINARY, 11, 2)\n",
    "adaptive_thresh_gaussian = cv2.adaptiveThreshold(blur, 255, cv2.ADAPTIVE_THRESH_GAUSSIAN_C, \n",
    "                                                 cv2.THRESH_BINARY, 11, 2)\n",
    "\n",
    "# Plotting the results side by side\n",
    "plt.figure(figsize=(10, 8))\n",
    "\n",
    "# Original Image\n",
    "plt.subplot(2, 2, 1)\n",
    "plt.imshow(image, cmap='gray')\n",
    "plt.title('Original Image')\n",
    "plt.axis('off')\n",
    "\n",
    "# Otsu's Binarization\n",
    "plt.subplot(2, 2, 2)\n",
    "plt.imshow(otsu_thresh, cmap='gray')\n",
    "plt.title(\"Otsu's Binarization\")\n",
    "plt.axis('off')\n",
    "\n",
    "# Adaptive Thresholding (Mean)\n",
    "plt.subplot(2, 2, 3)\n",
    "plt.imshow(adaptive_thresh_mean, cmap='gray')\n",
    "plt.title('Adaptive Thresholding (Mean)')\n",
    "plt.axis('off')\n",
    "\n",
    "# Adaptive Thresholding (Gaussian)\n",
    "plt.subplot(2, 2, 4)\n",
    "plt.imshow(adaptive_thresh_gaussian, cmap='gray')\n",
    "plt.title('Adaptive Thresholding (Gaussian)')\n",
    "plt.axis('off')\n",
    "\n",
    "plt.tight_layout()\n",
    "plt.show()\n"
   ]
  }
 ],
 "metadata": {
  "kernelspec": {
   "display_name": "Python 3 (ipykernel)",
   "language": "python",
   "name": "python3"
  },
  "language_info": {
   "codemirror_mode": {
    "name": "ipython",
    "version": 3
   },
   "file_extension": ".py",
   "mimetype": "text/x-python",
   "name": "python",
   "nbconvert_exporter": "python",
   "pygments_lexer": "ipython3",
   "version": "3.10.12"
  }
 },
 "nbformat": 4,
 "nbformat_minor": 5
}
