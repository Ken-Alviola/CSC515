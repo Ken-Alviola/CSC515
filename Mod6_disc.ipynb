{
 "cells": [
  {
   "cell_type": "code",
   "execution_count": null,
   "id": "0859db61",
   "metadata": {},
   "outputs": [],
   "source": [
    "import cv2\n",
    "import numpy as np\n",
    "import matplotlib.pyplot as plt"
   ]
  },
  {
   "cell_type": "code",
   "execution_count": null,
   "id": "e2d452c9",
   "metadata": {},
   "outputs": [],
   "source": [
    "# Load an example image\n",
    "img = cv2.imread('example_image.jpg', cv2.IMREAD_GRAYSCALE)\n",
    "\n",
    "# Apply global thresholding\n",
    "_, thresholded = cv2.threshold(img, 127, 255, cv2.THRESH_BINARY)\n",
    "\n",
    "# Apply Otsu's thresholding\n",
    "_, otsu_thresholded = cv2.threshold(img, 0, 255, cv2.THRESH_BINARY + cv2.THRESH_OTSU)\n",
    "\n",
    "# Region-based segmentation using Watershed\n",
    "# Convert to color for watershed processing\n",
    "img_color = cv2.imread('example_image.jpg')\n",
    "\n",
    "# Convert to grayscale and apply Otsu's threshold\n",
    "gray = cv2.cvtColor(img_color, cv2.COLOR_BGR2GRAY)\n",
    "_, binary = cv2.threshold(gray, 0, 255, cv2.THRESH_BINARY_INV + cv2.THRESH_OTSU)\n",
    "\n",
    "# Remove noise by applying morphological operations\n",
    "kernel = np.ones((3, 3), np.uint8)\n",
    "opening = cv2.morphologyEx(binary, cv2.MORPH_OPEN, kernel, iterations=2)\n",
    "\n",
    "# Background area (sure background)\n",
    "sure_bg = cv2.dilate(opening, kernel, iterations=3)\n",
    "\n",
    "# Foreground area (sure foreground)\n",
    "dist_transform = cv2.distanceTransform(opening, cv2.DIST_L2, 5)\n",
    "_, sure_fg = cv2.threshold(dist_transform, 0.7 * dist_transform.max(), 255, 0)\n",
    "\n",
    "# Unknown region (where we don't know if it’s background or foreground)\n",
    "sure_fg = np.uint8(sure_fg)\n",
    "unknown = cv2.subtract(sure_bg, sure_fg)\n",
    "\n",
    "# Label markers\n",
    "_, markers = cv2.connectedComponents(sure_fg)\n",
    "\n",
    "# Add one to all labels to distinguish the background (which is 0)\n",
    "markers = markers + 1\n",
    "\n",
    "# Mark the unknown regions with zero\n",
    "markers[unknown == 255] = 0\n",
    "\n",
    "# Apply the Watershed algorithm\n",
    "markers = cv2.watershed(img_color, markers)\n",
    "img_color[markers == -1] = [255, 0, 0]  # Mark boundary with red\n",
    "\n",
    "# Plot the results for comparison\n",
    "titles = ['Original Image', 'Global Thresholding', 'Otsu Thresholding', 'Watershed Segmentation']\n",
    "images = [img, thresholded, otsu_thresholded, img_color]\n",
    "\n",
    "plt.figure(figsize=(10, 8))\n",
    "for i in range(4):\n",
    "    plt.subplot(2, 2, i+1)\n",
    "    if i == 3:\n",
    "        plt.imshow(cv2.cvtColor(images[i], cv2.COLOR_BGR2RGB))  # For color image\n",
    "    else:\n",
    "        plt.imshow(images[i], cmap='gray')\n",
    "    plt.title(titles[i])\n",
    "    plt.axis('off')\n",
    "\n",
    "# Show the images\n",
    "plt.tight_layout()\n",
    "plt.show()"
   ]
  }
 ],
 "metadata": {
  "kernelspec": {
   "display_name": "Python 3 (ipykernel)",
   "language": "python",
   "name": "python3"
  },
  "language_info": {
   "codemirror_mode": {
    "name": "ipython",
    "version": 3
   },
   "file_extension": ".py",
   "mimetype": "text/x-python",
   "name": "python",
   "nbconvert_exporter": "python",
   "pygments_lexer": "ipython3",
   "version": "3.10.12"
  }
 },
 "nbformat": 4,
 "nbformat_minor": 5
}
