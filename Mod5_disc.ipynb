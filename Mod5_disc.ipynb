{
 "cells": [
  {
   "cell_type": "code",
   "execution_count": 1,
   "id": "79146bc1",
   "metadata": {},
   "outputs": [],
   "source": [
    "import cv2\n",
    "import numpy as np"
   ]
  },
  {
   "cell_type": "code",
   "execution_count": 2,
   "id": "98ce4731",
   "metadata": {},
   "outputs": [],
   "source": [
    "def enhance_plate(image):\n",
    "    # Convert to grayscale\n",
    "    gray = cv2.cvtColor(image, cv2.COLOR_BGR2GRAY)\n",
    "\n",
    "    # Apply morphological operations\n",
    "    kernel = np.ones((3,3), np.uint8)\n",
    "    closing = cv2.morphologyEx(gray, cv2.MORPH_CLOSE, kernel)\n",
    "    opening = cv2.morphologyEx(closing, cv2.MORPH_OPEN, kernel)\n",
    "\n",
    "    # Thresholding\n",
    "    thresh = cv2.adaptiveThreshold(opening, 255, cv2.ADAPTIVE_THRESH_MEAN_C, cv2.THRESH_BINARY_INV, 11, 2)\n",
    "\n",
    "    return thresh"
   ]
  },
  {
   "cell_type": "code",
   "execution_count": 33,
   "id": "49074b9c",
   "metadata": {},
   "outputs": [
    {
     "data": {
      "text/plain": [
       "\"# Display results\\ncv2.imshow('Original', image)\\ncv2.imshow('Enhanced', enhanced_image)\\ncv2.waitKey(0)\\ncv2.destroyAllWindows()\""
      ]
     },
     "execution_count": 33,
     "metadata": {},
     "output_type": "execute_result"
    }
   ],
   "source": [
    "# Read image\n",
    "img = cv2.imread('lp.JPG')\n",
    "img = cv2.cvtColor(img, cv2.COLOR_BGR2GRAY)\n",
    "#thresh, binary_img = cv2.threshold(img, 127, 255,cv2.THRESH_BINARY)\n",
    "\n",
    "orig = cv2.resize(img, (0,0), fx=6, fy=6)\n",
    "closing = cv2.resize(binary_img, (0,0), fx=6, fy=6)\n",
    "opening = cv2.resize(binary_img, (0,0), fx=6, fy=6)\n",
    "\n",
    "kernel = np.ones((3,3), np.uint8)\n",
    "closing = cv2.morphologyEx(closing, cv2.MORPH_CLOSE, kernel)\n",
    "opening = cv2.morphologyEx(closing, cv2.MORPH_OPEN, kernel)\n",
    "\n",
    "\n",
    "\n",
    "cv2.imshow('Original', orig)\n",
    "cv2.imshow('Closing', closing)\n",
    "cv2.imshow('Opening', opening)\n",
    "\n",
    "#enhanced_image = enhance_plate(image)\n",
    "cv2.waitKey(0)\n",
    "cv2.destroyAllWindows()\n",
    "\n",
    "'''# Display results\n",
    "cv2.imshow('Original', image)\n",
    "cv2.imshow('Enhanced', enhanced_image)\n",
    "cv2.waitKey(0)\n",
    "cv2.destroyAllWindows()'''"
   ]
  },
  {
   "cell_type": "code",
   "execution_count": 89,
   "id": "f990c535",
   "metadata": {},
   "outputs": [],
   "source": [
    "    # Convert to grayscale\n",
    "image = cv2.imread('lp.JPG')\n",
    "gray = cv2.cvtColor(image, cv2.COLOR_BGR2GRAY)\n",
    "gray = cv2.resize(gray, (0,0), fx=7, fy=7)\n",
    "    # Apply morphological operations\n",
    "kernel = np.ones((3,3), np.uint8)\n",
    "closing = cv2.morphologyEx(gray, cv2.MORPH_CLOSE, kernel)\n",
    "opening = cv2.morphologyEx(closing, cv2.MORPH_OPEN, kernel)\n",
    "closing = cv2.morphologyEx(gray, cv2.MORPH_CLOSE, kernel)\n",
    "    # Thresholding\n",
    "thresh = cv2.adaptiveThreshold(opening, 255, cv2.ADAPTIVE_THRESH_GAUSSIAN_C, cv2.THRESH_BINARY, 161, 11)\n",
    "thresh2 = cv2.adaptiveThreshold(closing, 255, cv2.ADAPTIVE_THRESH_GAUSSIAN_C, cv2.THRESH_BINARY, 161, 11)\n",
    "\n",
    "cv2.imshow('Opening', thresh)\n",
    "cv2.imshow('Closing', thresh2)\n",
    "cv2.imshow('Gray', gray)\n",
    "cv2.imshow('Original', image)\n",
    "#enhanced_image = enhance_plate(image)\n",
    "cv2.waitKey(0)\n",
    "cv2.destroyAllWindows()"
   ]
  },
  {
   "cell_type": "code",
   "execution_count": 93,
   "id": "05bc54f6",
   "metadata": {},
   "outputs": [],
   "source": [
    "\n",
    "kernel = np.ones((3,3),np.uint8)\n",
    "erosion = cv2.erode(gray,kernel,iterations = 1)\n",
    "dilation = cv2.dilate(gray,kernel,iterations = 1)\n",
    "ero = cv2.adaptiveThreshold(erosion, 255, cv2.ADAPTIVE_THRESH_GAUSSIAN_C, cv2.THRESH_BINARY, 161, 11)\n",
    "dil = cv2.adaptiveThreshold(dilation, 255, cv2.ADAPTIVE_THRESH_GAUSSIAN_C, cv2.THRESH_BINARY, 161, 11)\n",
    "\n",
    "cv2.imshow('Erosion', ero)\n",
    "cv2.imshow('Dilation', dil)\n",
    "#enhanced_image = enhance_plate(image)\n",
    "cv2.waitKey(0)\n",
    "cv2.destroyAllWindows()"
   ]
  },
  {
   "cell_type": "code",
   "execution_count": null,
   "id": "dd2b67c8",
   "metadata": {},
   "outputs": [],
   "source": []
  }
 ],
 "metadata": {
  "kernelspec": {
   "display_name": "Python 3 (ipykernel)",
   "language": "python",
   "name": "python3"
  },
  "language_info": {
   "codemirror_mode": {
    "name": "ipython",
    "version": 3
   },
   "file_extension": ".py",
   "mimetype": "text/x-python",
   "name": "python",
   "nbconvert_exporter": "python",
   "pygments_lexer": "ipython3",
   "version": "3.10.12"
  }
 },
 "nbformat": 4,
 "nbformat_minor": 5
}
