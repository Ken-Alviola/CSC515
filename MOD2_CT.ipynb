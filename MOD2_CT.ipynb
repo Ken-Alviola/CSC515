{
 "cells": [
  {
   "cell_type": "code",
   "execution_count": 1,
   "id": "8cc16e80",
   "metadata": {},
   "outputs": [],
   "source": [
    "import cv2\n",
    "import urllib.request\n",
    "import numpy as np\n",
    "from pathlib import Path"
   ]
  },
  {
   "cell_type": "code",
   "execution_count": 2,
   "id": "7606732a",
   "metadata": {},
   "outputs": [],
   "source": [
    "my_file = Path('dog.jpg')\n",
    "\n",
    "if my_file.is_file():\n",
    "    img = cv2.imread('dog.jpg')\n",
    "else:\n",
    "    req = urllib.request.urlopen('https://drive.usercontent.google.com/download?id=1G8mj1hakIsifG4aFKtSGLD5p8BdnRujv')\n",
    "    arr = np.asarray(bytearray(req.read()), dtype=np.uint8)\n",
    "    img = cv2.imdecode(arr, -1)\n",
    "    cv2.imwrite('dog.jpg',img)\n",
    "    "
   ]
  },
  {
   "cell_type": "code",
   "execution_count": 3,
   "id": "6427bea2",
   "metadata": {},
   "outputs": [],
   "source": [
    "cv2.imshow('Original',img)\n",
    "cv2.waitKey(0)\n",
    "\n",
    "b,g,r = cv2.split(img)\n",
    "\n",
    "cv2.imshow('Red', r)\n",
    "cv2.imshow('Green', g)\n",
    "cv2.imshow('Blue', b)\n",
    "\n",
    "cv2.waitKey(0)\n",
    "cv2.destroyAllWindows()"
   ]
  },
  {
   "cell_type": "code",
   "execution_count": 5,
   "id": "bab263c6",
   "metadata": {},
   "outputs": [],
   "source": [
    "image_merge = cv2.merge([b,g,r]) \n",
    "cv2.imshow(\"RGB Merge\", image_merge) \n",
    "  \n",
    "cv2.waitKey(0) \n",
    "cv2.destroyAllWindows()"
   ]
  },
  {
   "cell_type": "code",
   "execution_count": 6,
   "id": "4e0a0ecb",
   "metadata": {},
   "outputs": [],
   "source": [
    "rg_swap= cv2.merge([b,r,g]) \n",
    "cv2.imshow(\"Red and Green swap\", rg_swap) \n",
    " \n",
    "cv2.waitKey(0) \n",
    "cv2.destroyAllWindows()"
   ]
  },
  {
   "cell_type": "code",
   "execution_count": null,
   "id": "7710a5b9",
   "metadata": {},
   "outputs": [],
   "source": []
  }
 ],
 "metadata": {
  "kernelspec": {
   "display_name": "Python 3 (ipykernel)",
   "language": "python",
   "name": "python3"
  },
  "language_info": {
   "codemirror_mode": {
    "name": "ipython",
    "version": 3
   },
   "file_extension": ".py",
   "mimetype": "text/x-python",
   "name": "python",
   "nbconvert_exporter": "python",
   "pygments_lexer": "ipython3",
   "version": "3.10.12"
  }
 },
 "nbformat": 4,
 "nbformat_minor": 5
}
