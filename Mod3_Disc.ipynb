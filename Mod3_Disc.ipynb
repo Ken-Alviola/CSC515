{
 "cells": [
  {
   "cell_type": "code",
   "execution_count": 1,
   "id": "862eecc4",
   "metadata": {},
   "outputs": [],
   "source": [
    "import cv2\n",
    "import numpy as np\n"
   ]
  },
  {
   "cell_type": "code",
   "execution_count": 3,
   "id": "8d9d90f2",
   "metadata": {},
   "outputs": [],
   "source": [
    "img1 = cv2.imread('b1.png')\n",
    "img2 = cv2.imread('b2.png')\n",
    "\n",
    "gray1 = cv2.cvtColor(img1, cv2.COLOR_BGR2GRAY)\n",
    "gray2 = cv2.cvtColor(img2, cv2.COLOR_BGR2GRAY)\n",
    "\n",
    "cv2.imshow('grayscale1', gray1)\n",
    "cv2.imshow('grayscale2', gray2)\n",
    "\n",
    "cv2.waitKey(0)\n",
    "\n",
    "cv2.destroyAllWindows()"
   ]
  },
  {
   "cell_type": "code",
   "execution_count": 11,
   "id": "d669918e",
   "metadata": {},
   "outputs": [],
   "source": [
    "equ1 = cv2.equalizeHist(gray1)\n",
    "equ2 = cv2.equalizeHist(gray2)\n",
    "res1 = np.hstack((gray1,equ1)) #stacking images side-by-side\n",
    "res2 = np.hstack((gray2,equ2))\n",
    "\n",
    "cv2.imshow('Histogram Eq1', res1)\n",
    "cv2.imshow('Histogram Eq2', res2)\n",
    "\n",
    "cv2.waitKey(0)\n",
    "\n",
    "cv2.destroyAllWindows()"
   ]
  },
  {
   "cell_type": "code",
   "execution_count": 12,
   "id": "d471ccce",
   "metadata": {},
   "outputs": [],
   "source": [
    "# create a CLAHE object (Arguments are optional).\n",
    "clahe = cv2.createCLAHE(clipLimit=2.0, tileGridSize=(8,8))# clipLimit=2.0, tileGridSize=(8,8)\n",
    "\n",
    "cl1 = clahe.apply(gray1)\n",
    "cl2 = clahe.apply(gray2)\n",
    "\n",
    "res1 = np.hstack((gray1,cl1)) #stacking images side-by-side\n",
    "res2 = np.hstack((gray2,cl2))\n",
    "\n",
    "cv2.imshow('Clahe1', res1)\n",
    "cv2.imshow('Clahe2', res2)\n",
    "\n",
    "cv2.waitKey(0)\n",
    "\n",
    "cv2.destroyAllWindows()"
   ]
  },
  {
   "cell_type": "code",
   "execution_count": null,
   "id": "d8850814",
   "metadata": {},
   "outputs": [],
   "source": []
  }
 ],
 "metadata": {
  "kernelspec": {
   "display_name": "Python 3 (ipykernel)",
   "language": "python",
   "name": "python3"
  },
  "language_info": {
   "codemirror_mode": {
    "name": "ipython",
    "version": 3
   },
   "file_extension": ".py",
   "mimetype": "text/x-python",
   "name": "python",
   "nbconvert_exporter": "python",
   "pygments_lexer": "ipython3",
   "version": "3.10.12"
  }
 },
 "nbformat": 4,
 "nbformat_minor": 5
}
