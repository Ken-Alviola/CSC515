{
 "cells": [
  {
   "cell_type": "code",
   "execution_count": 2,
   "id": "a2d69d4b",
   "metadata": {},
   "outputs": [],
   "source": [
    "import cv2\n",
    "import pytesseract\n",
    "import numpy as np"
   ]
  },
  {
   "cell_type": "code",
   "execution_count": null,
   "id": "e8007c15",
   "metadata": {},
   "outputs": [],
   "source": [
    "# Set Tesseract path (adjust if Tesseract is installed in a custom location)\n",
    "# pytesseract.pytesseract.tesseract_cmd = r\"C:\\Program Files\\Tesseract-OCR\\tesseract.exe\"\n",
    "pytesseract.tesseract_cmd = r'/usr/bin/tesseract'\n",
    "\n",
    "# Load images\n",
    "images = [\n",
    "    cv2.imread(\"path_to_image_with_russian_plate_close.jpg\"),\n",
    "    cv2.imread(\"path_to_image_with_russian_plate_far.jpg\"),\n",
    "    cv2.imread(\"path_to_image_with_non_russian_plate.jpg\")\n",
    "]\n",
    "\n",
    "# Load the trained Haar Cascade for Russian license plates\n",
    "plate_cascade = cv2.CascadeClassifier(cv2.data.haarcascades + \"haarcascade_russian_plate_number.xml\")\n",
    "\n",
    "# Define a function to preprocess and detect plates\n",
    "def detect_license_plate(image, cascade):\n",
    "    gray = cv2.cvtColor(image, cv2.COLOR_BGR2GRAY)\n",
    "    # Adjustments to improve detection in different lighting\n",
    "    gray = cv2.equalizeHist(gray)\n",
    "    plates = cascade.detectMultiScale(gray, scaleFactor=1.1, minNeighbors=5, minSize=(100, 40))\n",
    "    \n",
    "    for (x, y, w, h) in plates:\n",
    "        # Draw red bounding box\n",
    "        cv2.rectangle(image, (x, y), (x+w, y+h), (0, 0, 255), 2)\n",
    "        # Return cropped plate region\n",
    "        return image, gray[y:y+h, x:x+w]\n",
    "    return image, None\n",
    "\n",
    "# Detect plates and show results\n",
    "detected_images = []\n",
    "cropped_plates = []\n",
    "for img in images:\n",
    "    result_img, plate_region = detect_license_plate(img, plate_cascade)\n",
    "    detected_images.append(result_img)\n",
    "    cropped_plates.append(plate_region)\n",
    "\n",
    "# Display results with bounding boxes\n",
    "for i, detected_img in enumerate(detected_images):\n",
    "    cv2.imshow(f\"Detected License Plate Image {i+1}\", detected_img)\n",
    "cv2.waitKey(0)\n",
    "cv2.destroyAllWindows()\n"
   ]
  },
  {
   "cell_type": "code",
   "execution_count": null,
   "id": "284e3e5d",
   "metadata": {},
   "outputs": [],
   "source": [
    "def preprocess_for_ocr(plate_img):\n",
    "    # Resize to standard dimensions\n",
    "    plate_img = cv2.resize(plate_img, (300, 75))\n",
    "    \n",
    "    # Thresholding for better character segmentation\n",
    "    _, thresh = cv2.threshold(plate_img, 0, 255, cv2.THRESH_BINARY + cv2.THRESH_OTSU)\n",
    "    \n",
    "    return thresh\n",
    "\n",
    "# Function to recognize characters in each cropped plate region\n",
    "def recognize_characters(plate_img):\n",
    "    if plate_img is None:\n",
    "        return \"Plate Not Detected\"\n",
    "    # Preprocess plate for OCR\n",
    "    processed_plate = preprocess_for_ocr(plate_img)\n",
    "    \n",
    "    # Use Tesseract OCR to read the text\n",
    "    text = pytesseract.image_to_string(processed_plate, config='--psm 8')\n",
    "    return text.strip()\n",
    "\n",
    "# Recognize characters in each detected license plate\n",
    "for i, plate in enumerate(cropped_plates):\n",
    "    plate_text = recognize_characters(plate)\n",
    "    print(f\"License Plate Text for Image {i+1}: {plate_text}\")\n",
    "\n",
    "    # Display the processed plate image for visual inspection\n",
    "    if plate is not None:\n",
    "        cv2.imshow(f\"Processed Plate {i+1}\", preprocess_for_ocr(plate))\n",
    "\n",
    "cv2.waitKey(0)\n",
    "cv2.destroyAllWindows()\n"
   ]
  }
 ],
 "metadata": {
  "kernelspec": {
   "display_name": "Python 3 (ipykernel)",
   "language": "python",
   "name": "python3"
  },
  "language_info": {
   "codemirror_mode": {
    "name": "ipython",
    "version": 3
   },
   "file_extension": ".py",
   "mimetype": "text/x-python",
   "name": "python",
   "nbconvert_exporter": "python",
   "pygments_lexer": "ipython3",
   "version": "3.10.12"
  }
 },
 "nbformat": 4,
 "nbformat_minor": 5
}
